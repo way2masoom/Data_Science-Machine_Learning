{
 "cells": [
  {
   "cell_type": "markdown",
   "metadata": {},
   "source": [
    "-Introduction to variables\n",
    "-Declaring and Assigning Variable\n",
    "-Naming Conventions\n",
    "-Understanding variable Types\n",
    "-Type checking and Conversion\n",
    "-Dynamic typing\n",
    "-Practical Example and common error\n"
   ]
  },
  {
   "cell_type": "code",
   "execution_count": 3,
   "metadata": {},
   "outputs": [
    {
     "name": "stdout",
     "output_type": "stream",
     "text": [
      "age : 20\n",
      "Height: 6.1\n",
      "name: Alam\n",
      "Is student : True\n"
     ]
    }
   ],
   "source": [
    "#Declaration and Assigning variables\n",
    "age=20\n",
    "height=6.1\n",
    "name=\"Alam\"\n",
    "is_Student=True\n",
    "\n",
    "#printing the Variables\n",
    "print(\"age :\",age)\n",
    "print(\"Height:\",height)\n",
    "print(\"name:\",name)\n",
    "print(\"Is student :\",is_Student)"
   ]
  },
  {
   "cell_type": "code",
   "execution_count": 8,
   "metadata": {},
   "outputs": [
    {
     "name": "stdout",
     "output_type": "stream",
     "text": [
      "MDAlma\n"
     ]
    }
   ],
   "source": [
    "#Naming Conventions\n",
    "\n",
    "#valid naming\n",
    "first_name=\"MD\"\n",
    "last_name=\"Alma\"\n",
    "print(first_name+last_name)"
   ]
  },
  {
   "cell_type": "code",
   "execution_count": null,
   "metadata": {},
   "outputs": [],
   "source": [
    "#Invalid Conventions\n",
    "#first-name:\"alam\"\n",
    "#-first-name\"Alam\"\n",
    "#@name:\"alam\"\n",
    "#1name:\"Alam \""
   ]
  },
  {
   "cell_type": "code",
   "execution_count": 9,
   "metadata": {},
   "outputs": [
    {
     "name": "stdout",
     "output_type": "stream",
     "text": [
      "alam\n",
      "md\n"
     ]
    }
   ],
   "source": [
    "#Case sensitivity\n",
    "name=\"alam\"\n",
    "Name=\"md\"\n",
    "print(name)\n",
    "print(Name)"
   ]
  },
  {
   "cell_type": "code",
   "execution_count": 10,
   "metadata": {},
   "outputs": [
    {
     "name": "stdout",
     "output_type": "stream",
     "text": [
      "<class 'int'>\n"
     ]
    }
   ],
   "source": [
    "#Understanding Variables\n",
    "#Python is Dynamically type of the variable is determined at run time\n",
    "\n",
    "age=20 #integer variable\n",
    "height=6.1 #float variable\n",
    "name=\"Alam\" #String Variable\n",
    "is_Student=True #Boole variable"
   ]
  },
  {
   "cell_type": "code",
   "execution_count": 11,
   "metadata": {},
   "outputs": [
    {
     "data": {
      "text/plain": [
       "float"
      ]
     },
     "execution_count": 11,
     "metadata": {},
     "output_type": "execute_result"
    }
   ],
   "source": [
    "#Type Checking and Conversion\n",
    "type(height)"
   ]
  },
  {
   "cell_type": "code",
   "execution_count": 19,
   "metadata": {},
   "outputs": [
    {
     "name": "stdout",
     "output_type": "stream",
     "text": [
      "<class 'int'>\n",
      "30\n",
      "<class 'str'>\n"
     ]
    }
   ],
   "source": [
    "#type Conversion\n",
    "age=30\n",
    "print(type(age))\n",
    "\n",
    "#CONVERSION \n",
    "age_str=str(age)\n",
    "print(age_str)\n",
    "print(type(age_str))\n"
   ]
  },
  {
   "cell_type": "code",
   "execution_count": 23,
   "metadata": {},
   "outputs": [
    {
     "name": "stdout",
     "output_type": "stream",
     "text": [
      "<class 'int'>\n"
     ]
    }
   ],
   "source": [
    "age='35'\n",
    "print(type(int(age)))"
   ]
  },
  {
   "cell_type": "code",
   "execution_count": 27,
   "metadata": {},
   "outputs": [
    {
     "name": "stdout",
     "output_type": "stream",
     "text": [
      "age =  88\n"
     ]
    }
   ],
   "source": [
    "#USER Input\n",
    "age=int(input(\"enter Your age :\"))\n",
    "print(\"age = \",age)"
   ]
  },
  {
   "cell_type": "code",
   "execution_count": 31,
   "metadata": {},
   "outputs": [
    {
     "name": "stdout",
     "output_type": "stream",
     "text": [
      "The sum of two numbers is =  30.0\n",
      "The difference of two numbers is =  -10.0\n",
      "The Product of two numbers is =  200.0\n",
      "The quotient of two numbers is =  0.5\n"
     ]
    }
   ],
   "source": [
    "#Simple Calculator\n",
    "\n",
    "num1=float(input(\"enter first number :\"))\n",
    "num2=float(input(\"enter Second number :\"))\n",
    "\n",
    "sum=num1+num2\n",
    "difference=num1-num2\n",
    "product=num1*num2\n",
    "quotient=num1/num2\n",
    "\n",
    "#Displaying the result\n",
    "\n",
    "print(\"The sum of two numbers is = \",sum)\n",
    "print(\"The difference of two numbers is = \",difference)\n",
    "print(\"The Product of two numbers is = \",product)\n",
    "print(\"The quotient of two numbers is = \",quotient)\n",
    "\n",
    "\n"
   ]
  }
 ],
 "metadata": {
  "kernelspec": {
   "display_name": "myenv",
   "language": "python",
   "name": "python3"
  },
  "language_info": {
   "codemirror_mode": {
    "name": "ipython",
    "version": 3
   },
   "file_extension": ".py",
   "mimetype": "text/x-python",
   "name": "python",
   "nbconvert_exporter": "python",
   "pygments_lexer": "ipython3",
   "version": "3.13.1"
  }
 },
 "nbformat": 4,
 "nbformat_minor": 2
}
