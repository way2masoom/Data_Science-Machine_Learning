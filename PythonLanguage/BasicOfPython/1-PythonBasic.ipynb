{
 "cells": [
  {
   "cell_type": "code",
   "execution_count": 1,
   "metadata": {},
   "outputs": [
    {
     "name": "stdout",
     "output_type": "stream",
     "text": [
      "Sum: 15\n",
      "Difference: 5\n",
      "Product: 50\n",
      "Quotient: 2.0\n",
      "x is less than y\n",
      "Iteration: 0\n",
      "Iteration: 1\n",
      "Iteration: 2\n",
      "Iteration: 3\n",
      "Iteration: 4\n",
      "Hello, Alice\n"
     ]
    }
   ],
   "source": [
    "# This is a comment\n",
    "\n",
    "# Variable assignment\n",
    "x = 5\n",
    "y = 10\n",
    "\n",
    "# Arithmetic operations\n",
    "sum = x + y\n",
    "difference = y - x\n",
    "product = x * y\n",
    "quotient = y / x\n",
    "\n",
    "# Print statements\n",
    "print(\"Sum:\", sum)\n",
    "print(\"Difference:\", difference)\n",
    "print(\"Product:\", product)\n",
    "print(\"Quotient:\", quotient)\n",
    "\n",
    "# Conditional statements\n",
    "if x < y:\n",
    "    print(\"x is less than y\")\n",
    "else:\n",
    "    print(\"x is not less than y\")\n",
    "\n",
    "# Looping\n",
    "for i in range(5):\n",
    "    print(\"Iteration:\", i)\n",
    "\n",
    "# Function definition\n",
    "def greet(name):\n",
    "    return \"Hello, \" + name\n",
    "\n",
    "# Function call\n",
    "print(greet(\"Alice\"))"
   ]
  }
 ],
 "metadata": {
  "kernelspec": {
   "display_name": "Python 3",
   "language": "python",
   "name": "python3"
  },
  "language_info": {
   "codemirror_mode": {
    "name": "ipython",
    "version": 3
   },
   "file_extension": ".py",
   "mimetype": "text/x-python",
   "name": "python",
   "nbconvert_exporter": "python",
   "pygments_lexer": "ipython3",
   "version": "3.13.1"
  }
 },
 "nbformat": 4,
 "nbformat_minor": 2
}
